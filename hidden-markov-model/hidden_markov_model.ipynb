{
  "nbformat": 4,
  "nbformat_minor": 0,
  "metadata": {
    "colab": {
      "name": "hidden-markov-model.ipynb",
      "version": "0.3.2",
      "views": {},
      "default_view": {},
      "provenance": [],
      "collapsed_sections": []
    },
    "kernelspec": {
      "name": "python3",
      "display_name": "Python 3"
    }
  },
  "cells": [
    {
      "metadata": {
        "id": "ghjo_VEdtJ5A",
        "colab_type": "code",
        "colab": {
          "autoexec": {
            "startup": false,
            "wait_interval": 0
          }
        }
      },
      "cell_type": "code",
      "source": [
        "import pandas as pd"
      ],
      "execution_count": 0,
      "outputs": []
    },
    {
      "metadata": {
        "id": "4LCUl4Kasfgq",
        "colab_type": "code",
        "colab": {
          "autoexec": {
            "startup": false,
            "wait_interval": 0
          },
          "base_uri": "https://localhost:8080/",
          "height": 329
        },
        "outputId": "fe7be1d6-f102-4e47-c213-7d25486d5fd7",
        "executionInfo": {
          "status": "ok",
          "timestamp": 1530955004895,
          "user_tz": -120,
          "elapsed": 641,
          "user": {
            "displayName": "Patrycja Jakimów",
            "photoUrl": "https://lh3.googleusercontent.com/a/default-user=s128",
            "userId": "115620814271112425809"
          }
        }
      },
      "cell_type": "code",
      "source": [
        "# create state space and init\n",
        "states = ['happy', 'sad']\n",
        "initial = [0.5, 0.5]\n",
        "state_space = pd.Series(initial, index=states, name='states')\n",
        "print(state_space)\n",
        "print('\\n', state_space.sum())\n",
        "\n",
        "# create hidden transition matrix\n",
        "# probability of changing states given a state\n",
        "tran_df = pd.DataFrame(columns=states, index=states)\n",
        "tran_df.loc[states[0]] = [0.7, 0.3]\n",
        "tran_df.loc[states[1]] = [0.4, 0.6]\n",
        "\n",
        "print(tran_df)\n",
        "print(tran_df.sum(axis=1))\n",
        "\n",
        "# create matrix of observation (emission) probabilities\n",
        "observations = ['at school', 'in the cinema', 'at the dentist']\n",
        "\n",
        "emi_df = pd.DataFrame(columns=observations, index=states)\n",
        "emi_df.loc[states[0]] = [0.3, 0.6, 0.1]\n",
        "emi_df.loc[states[1]] = [0.4, 0.1, 0.5]\n",
        "\n",
        "print(emi_df)\n",
        "print(emi_df.sum(axis=1))"
      ],
      "execution_count": 7,
      "outputs": [
        {
          "output_type": "stream",
          "text": [
            "happy    0.5\n",
            "sad      0.5\n",
            "Name: states, dtype: float64\n",
            "\n",
            " 1.0\n",
            "      happy  sad\n",
            "happy   0.7  0.3\n",
            "sad     0.4  0.6\n",
            "happy    1.0\n",
            "sad      1.0\n",
            "dtype: float64\n",
            "      at school in the cinema at the dentist\n",
            "happy       0.3           0.6            0.1\n",
            "sad         0.4           0.1            0.5\n",
            "happy    1.0\n",
            "sad      1.0\n",
            "dtype: float64\n"
          ],
          "name": "stdout"
        }
      ]
    },
    {
      "metadata": {
        "id": "GO_59SaPvtAg",
        "colab_type": "code",
        "colab": {
          "autoexec": {
            "startup": false,
            "wait_interval": 0
          }
        }
      },
      "cell_type": "code",
      "source": [
        "def get_edges(df):\n",
        "    edges = {}\n",
        "    for col in df.columns:\n",
        "        for index in df.index:\n",
        "            edges[(index,col)] = df.loc[index,col]\n",
        "    return edges\n",
        "  \n",
        "def add_edges(G, df):\n",
        "  for key, value in df.items():\n",
        "    source, target = key\n",
        "    G.add_edge(source, target, weight=value, label=value)  \n",
        "  return G"
      ],
      "execution_count": 0,
      "outputs": []
    },
    {
      "metadata": {
        "id": "LWJggNufwD7D",
        "colab_type": "code",
        "colab": {
          "autoexec": {
            "startup": false,
            "wait_interval": 0
          },
          "base_uri": "https://localhost:8080/",
          "height": 237
        },
        "outputId": "8e03aab1-1e7b-4607-b011-c6d2473dfcc6",
        "executionInfo": {
          "status": "ok",
          "timestamp": 1530955010398,
          "user_tz": -120,
          "elapsed": 595,
          "user": {
            "displayName": "Patrycja Jakimów",
            "photoUrl": "https://lh3.googleusercontent.com/a/default-user=s128",
            "userId": "115620814271112425809"
          }
        }
      },
      "cell_type": "code",
      "source": [
        "from pprint import pprint\n",
        "\n",
        "transition_edges = get_edges(tran_df)\n",
        "print('Transition:')\n",
        "pprint(transition_edges)\n",
        "\n",
        "emission_edges = get_edges(emi_df)\n",
        "print('Emission:')\n",
        "pprint(emission_edges)"
      ],
      "execution_count": 9,
      "outputs": [
        {
          "output_type": "stream",
          "text": [
            "Transition:\n",
            "{('happy', 'happy'): 0.7,\n",
            " ('happy', 'sad'): 0.3,\n",
            " ('sad', 'happy'): 0.4,\n",
            " ('sad', 'sad'): 0.6}\n",
            "Emission:\n",
            "{('happy', 'at school'): 0.3,\n",
            " ('happy', 'at the dentist'): 0.1,\n",
            " ('happy', 'in the cinema'): 0.6,\n",
            " ('sad', 'at school'): 0.4,\n",
            " ('sad', 'at the dentist'): 0.5,\n",
            " ('sad', 'in the cinema'): 0.1}\n"
          ],
          "name": "stdout"
        }
      ]
    },
    {
      "metadata": {
        "id": "FAaslJMFxxaR",
        "colab_type": "code",
        "colab": {
          "autoexec": {
            "startup": false,
            "wait_interval": 0
          },
          "base_uri": "https://localhost:8080/",
          "height": 147
        },
        "outputId": "bee22624-45ea-4fab-b97c-c13b4d0f6643",
        "executionInfo": {
          "status": "ok",
          "timestamp": 1530955012527,
          "user_tz": -120,
          "elapsed": 574,
          "user": {
            "displayName": "Patrycja Jakimów",
            "photoUrl": "https://lh3.googleusercontent.com/a/default-user=s128",
            "userId": "115620814271112425809"
          }
        }
      },
      "cell_type": "code",
      "source": [
        "import networkx as nx\n",
        "\n",
        "G = nx.MultiGraph().to_directed()\n",
        "G.add_nodes_from(states)\n",
        "print('Nodes:\\n{}\\n'.format(G.nodes()))\n",
        "\n",
        "G = add_edges(G, transition_edges)\n",
        "G = add_edges(G, emission_edges)\n",
        "print('Edges:\\n{}\\n'.format(G.edges(data=True)))\n"
      ],
      "execution_count": 10,
      "outputs": [
        {
          "output_type": "stream",
          "text": [
            "Nodes:\n",
            "['happy', 'sad']\n",
            "\n",
            "Edges:\n",
            "[('happy', 'happy', {'weight': 0.7, 'label': 0.7}), ('happy', 'sad', {'weight': 0.3, 'label': 0.3}), ('happy', 'at school', {'weight': 0.3, 'label': 0.3}), ('happy', 'in the cinema', {'weight': 0.6, 'label': 0.6}), ('happy', 'at the dentist', {'weight': 0.1, 'label': 0.1}), ('sad', 'happy', {'weight': 0.4, 'label': 0.4}), ('sad', 'sad', {'weight': 0.6, 'label': 0.6}), ('sad', 'at school', {'weight': 0.4, 'label': 0.4}), ('sad', 'in the cinema', {'weight': 0.1, 'label': 0.1}), ('sad', 'at the dentist', {'weight': 0.5, 'label': 0.5})]\n",
            "\n"
          ],
          "name": "stdout"
        }
      ]
    },
    {
      "metadata": {
        "id": "iqwoTxlh4R9i",
        "colab_type": "code",
        "colab": {
          "autoexec": {
            "startup": false,
            "wait_interval": 0
          }
        }
      },
      "cell_type": "code",
      "source": [
        "!apt-get -qq install -y graphviz && pip install -q pydot"
      ],
      "execution_count": 0,
      "outputs": []
    },
    {
      "metadata": {
        "id": "Fp2WgZc03Tah",
        "colab_type": "code",
        "colab": {
          "autoexec": {
            "startup": false,
            "wait_interval": 0
          },
          "base_uri": "https://localhost:8080/",
          "height": 347
        },
        "outputId": "6434e9f2-72fb-4c27-97fa-bb7736164b04",
        "executionInfo": {
          "status": "ok",
          "timestamp": 1530955031947,
          "user_tz": -120,
          "elapsed": 823,
          "user": {
            "displayName": "Patrycja Jakimów",
            "photoUrl": "https://lh3.googleusercontent.com/a/default-user=s128",
            "userId": "115620814271112425809"
          }
        }
      },
      "cell_type": "code",
      "source": [
        "import pydot\n",
        "import matplotlib.pyplot as plt\n",
        "\n",
        "pos=nx.drawing.nx_pydot.graphviz_layout(G, prog='neato')\n",
        "\n",
        "nx.draw_networkx(G,pos=pos,nodelist=states, node_color='red', label='states')\n",
        "nx.draw_networkx(G,pos=pos,nodelist=observations, node_color='yellow', label='observations')\n",
        "\n",
        "graph_labels = {(s,t):data['label'] for s,t,data in G.edges(data=True)}\n",
        "nx.draw_networkx_edge_labels(G , pos, edge_labels=graph_labels)\n",
        "\n",
        "plt.legend(numpoints = 1)\n",
        "plt.show()"
      ],
      "execution_count": 12,
      "outputs": [
        {
          "output_type": "display_data",
          "data": {
            "image/png": "[encoded data removed]",
            "text/plain": [
              "<matplotlib.figure.Figure at 0x7ff199ffcd68>"
            ]
          },
          "metadata": {
            "tags": []
          }
        }
      ]
    },
    {
      "metadata": {
        "id": "lQVE2SQ3GETW",
        "colab_type": "code",
        "colab": {
          "autoexec": {
            "startup": false,
            "wait_interval": 0
          }
        }
      },
      "cell_type": "code",
      "source": [
        "import numpy as np\n",
        "\n",
        "#obs_map = {obs:observations.index(obs) for obs in observations}\n",
        "#obs_map_reversed = {v:k for k, v in obs_map.items()}\n",
        "\n",
        "obs = np.random.randint(3, size=30)"
      ],
      "execution_count": 0,
      "outputs": []
    },
    {
      "metadata": {
        "id": "qXyOLdJZXVMO",
        "colab_type": "code",
        "colab": {
          "autoexec": {
            "startup": false,
            "wait_interval": 0
          }
        }
      },
      "cell_type": "code",
      "source": [
        "def viterbi(initial_distr, tran_matrix, emi_matrix, obs):  \n",
        "    nStates = np.shape(emi_matrix)[0]\n",
        "    T = np.shape(obs)[0] \n",
        "    path = np.zeros(T)\n",
        "    T1 = np.zeros((nStates, T))\n",
        "    T2 = np.zeros((nStates, T))\n",
        "    \n",
        "    # init T1 and T2 \n",
        "    T1[:, 0] = initial_distr * emi_matrix[:, obs[0]]\n",
        "    T2[:, 0] = 0\n",
        "\n",
        "    # forward step\n",
        "    for t in range(1, T):\n",
        "        for s in range(nStates):\n",
        "            T1[s, t] = np.max(T1[:, t-1] * tran_matrix[:, s]) * emi_matrix[s, obs[t]] \n",
        "            T2[s, t] = np.argmax(T1[:, t-1] * tran_matrix[:, s])\n",
        "    \n",
        "    # backtrace step\n",
        "    path[T-1] = np.argmax(T1[:, T-1])\n",
        "\n",
        "    for t in range(T-2, -1, -1):\n",
        "        path[t] = T2[int(path[t+1]), t+1]\n",
        "        \n",
        "    return path"
      ],
      "execution_count": 0,
      "outputs": []
    },
    {
      "metadata": {
        "id": "kwO3LGYrCKs5",
        "colab_type": "code",
        "colab": {
          "autoexec": {
            "startup": false,
            "wait_interval": 0
          },
          "base_uri": "https://localhost:8080/",
          "height": 129
        },
        "outputId": "1e41c8fc-4c1f-4a76-b41c-e0aa326e327b",
        "executionInfo": {
          "status": "ok",
          "timestamp": 1530955104487,
          "user_tz": -120,
          "elapsed": 526,
          "user": {
            "displayName": "Patrycja Jakimów",
            "photoUrl": "https://lh3.googleusercontent.com/a/default-user=s128",
            "userId": "115620814271112425809"
          }
        }
      },
      "cell_type": "code",
      "source": [
        "path = viterbi(initial, tran_df.values, emi_df.values, obs)\n",
        "print('\\nsingle best state path: \\n', path)\n",
        "\n",
        "dict_states={0:'happy', 1:'sad'}\n",
        "from numpy import copy\n",
        "newPath = []\n",
        "\n",
        "for i in range(len(path)):\n",
        "  for k, v in dict_states.items(): \n",
        "    if path[i]==k:\n",
        "      newPath += [v]\n",
        "  \n",
        "print(newPath)"
      ],
      "execution_count": 18,
      "outputs": [
        {
          "output_type": "stream",
          "text": [
            "\n",
            "single best state path: \n",
            " [1. 1. 1. 0. 1. 1. 1. 1. 1. 1. 1. 1. 0. 1. 1. 1. 0. 1. 1. 1. 1. 0. 1. 1.\n",
            " 1. 1. 1. 0. 1. 1.]\n",
            "['sad', 'sad', 'sad', 'happy', 'sad', 'sad', 'sad', 'sad', 'sad', 'sad', 'sad', 'sad', 'happy', 'sad', 'sad', 'sad', 'happy', 'sad', 'sad', 'sad', 'sad', 'happy', 'sad', 'sad', 'sad', 'sad', 'sad', 'happy', 'sad', 'sad']\n"
          ],
          "name": "stdout"
        }
      ]
    }
  ]
}